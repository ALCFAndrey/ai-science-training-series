{
 "cells": [
  {
   "cell_type": "markdown",
   "id": "f34cd06a",
   "metadata": {},
   "source": [
    "# Last Homework\n",
    "\n",
    "I would like to use AI to predict the salary increase an employee should demand from their employee. The factors that I would use for this data include inflation, CPI, hours overtime worked, performance review. I would lag the variables and predict on the % salary increase. I believe any of the supervised learning methods and perhaps, deep learning will be appropriate in solving this problem. \n"
   ]
  }
 ],
 "metadata": {
  "kernelspec": {
   "display_name": "conda/2022-07-01",
   "language": "python",
   "name": "conda-2022-07-01"
  },
  "language_info": {
   "codemirror_mode": {
    "name": "ipython",
    "version": 3
   },
   "file_extension": ".py",
   "mimetype": "text/x-python",
   "name": "python",
   "nbconvert_exporter": "python",
   "pygments_lexer": "ipython3",
   "version": "3.8.13"
  }
 },
 "nbformat": 4,
 "nbformat_minor": 5
}
