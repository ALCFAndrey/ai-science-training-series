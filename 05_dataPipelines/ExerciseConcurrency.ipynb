{
 "cells": [
  {
   "cell_type": "markdown",
   "id": "bfba47c9",
   "metadata": {},
   "source": [
    "# Exercise in Concurrency\n",
    "\n",
    "This is an exercise to help understand the usefulness of concurrency which is very important in supercomputering as we have very large numbers of computers working _concurrently_ on the same problem.\n",
    "\n",
    "Here we'll start with an example of concurrency on a single computer CPU that has many cores.\n",
    "\n",
    "## Loading the needed python modules"
   ]
  },
  {
   "cell_type": "code",
   "execution_count": 1,
   "id": "af72f2cb",
   "metadata": {},
   "outputs": [],
   "source": [
    "import concurrent.futures\n",
    "import numpy as np\n",
    "import json\n",
    "from PIL import Image\n",
    "from itertools import repeat\n",
    "import multiprocessing\n",
    "import time"
   ]
  },
  {
   "cell_type": "markdown",
   "id": "6473dfa2",
   "metadata": {},
   "source": [
    "## Retrieve ImageNet JPEG files\n",
    "\n",
    "This is a helper function that returns a python list of image filenames."
   ]
  },
  {
   "cell_type": "code",
   "execution_count": 2,
   "id": "5fb765c5",
   "metadata": {},
   "outputs": [],
   "source": [
    "def get_image_files(config_file='ilsvrc.json', num_images = 100):\n",
    "   config = json.load(open(config_file))\n",
    "   filelist = config['data']['train_filelist']\n",
    "   \n",
    "   with open(filelist) as myfile:\n",
    "      image_filenames = [next(myfile).strip() for x in range(num_images)]\n",
    "   \n",
    "   return image_filenames"
   ]
  },
  {
   "cell_type": "markdown",
   "id": "9c766640",
   "metadata": {},
   "source": [
    "## Process Images\n",
    "\n",
    "We will imagine we are building a training batch for machine learning using these JPEGs. This would typically require you to\n",
    "1. open the file, \n",
    "2. read the data, \n",
    "3. resize the image to fit your neural network, and\n",
    "4. add it to the list of inputs\n",
    "\n",
    "This function does this for us."
   ]
  },
  {
   "cell_type": "code",
   "execution_count": 3,
   "id": "103c219b",
   "metadata": {},
   "outputs": [],
   "source": [
    "def process_image(image_filename,resize_shape,batch_data,index):\n",
    "   # arguments:\n",
    "   #   image_filename = string giving the full path to the JPEG file to open\n",
    "   #   resize_shape   = a two dimensional tuple defining the image size in our batch, \n",
    "   #                      example: (200,100) corresponding to (width,height)\n",
    "   #   batch_data     = the numpy array that will hold our batch of images in a single  \n",
    "   #                      object with indices: (batch, width, height, channels)\n",
    "   #   index          = a unique batch ID number that corresponds to the first index of \n",
    "   #                      our batch array\n",
    "   \n",
    "   # use the PIL.Image object to open our JPEG\n",
    "   image = Image.open(image_filename)  # <- PIL.Image Object\n",
    "   \n",
    "   # use the Image.resize function to \n",
    "   image = image.resize(resize_shape)  # <- PIL.Image Object\n",
    "   # convert the image to a numpy array\n",
    "   data = np.asarray(image)            # <- numpy array of shape (width,height,3)\n",
    "   # this is a check:\n",
    "   # some of our JPEGs are black & white, so they have no channel index\n",
    "   # so this little snippet of code adds a channel index if needed\n",
    "   if len(data.shape) == 2:\n",
    "      tmp = np.zeros(data.shape + (3,))\n",
    "      tmp[...,0] = data\n",
    "      data = tmp\n",
    "   \n",
    "   # In order to copy our image, which currently has shape (width,height,3)\n",
    "   #    into the batch data array which has shape (batch_size,width,height,3),\n",
    "   #    we need to add an extra index to our data\n",
    "   data = data[np.newaxis,...]         # <- numpy array of shape (1,width,height,3)\n",
    "   # copy one JPEG image data into our batch of data, at the passed index\n",
    "   batch_data[index,...] = data"
   ]
  },
  {
   "cell_type": "markdown",
   "id": "3850d889",
   "metadata": {},
   "source": [
    "Now we can create a _serial_, AKA a single-core process, that builds a batch of images for our ML training."
   ]
  },
  {
   "cell_type": "code",
   "execution_count": 4,
   "id": "55cdb231",
   "metadata": {},
   "outputs": [
    {
     "name": "stdout",
     "output_type": "stream",
     "text": [
      "duration:     3.30 seconds\n",
      "images per second:   303.00\n"
     ]
    }
   ],
   "source": [
    "# define how many images are in our batch\n",
    "batch_size = 1000\n",
    "# define our resize shape\n",
    "resize_width = 100\n",
    "resize_height = 100\n",
    "resize_shape = (resize_width,resize_height)\n",
    "# retrieve batch_size worth of JPEG filenames\n",
    "img_files = get_image_files(num_images=batch_size)\n",
    "# create a numpy array that will hold our batch data\n",
    "#     np.zero creates an array of the given shape\n",
    "#     where all entries are set to zero\n",
    "new_image = np.zeros((batch_size,resize_width,resize_height,3))\n",
    "start_time = time.time()\n",
    "# loop over the image filenames and process each one.\n",
    "for i,imagefile in enumerate(img_files):\n",
    "   process_image(imagefile,resize_shape,new_image,i)\n",
    "end_time = time.time()\n",
    "duration = end_time - start_time\n",
    "print(f'duration: {duration:8.2f} seconds')\n",
    "image_rate = batch_size / duration\n",
    "print(f'images per second: {image_rate:8.2f}')"
   ]
  },
  {
   "cell_type": "markdown",
   "id": "2e18b558",
   "metadata": {},
   "source": [
    "The code above takes many seconds to execute and only uses 1 CPU-core to build our batch. We can speed this up using parallel threads, where each thread uses a different CPU core on our machine.\n",
    "\n",
    "We can use Python to tell us how many CPU cores we have:"
   ]
  },
  {
   "cell_type": "code",
   "execution_count": 5,
   "id": "72212fa6",
   "metadata": {},
   "outputs": [
    {
     "name": "stdout",
     "output_type": "stream",
     "text": [
      "number of CPU cores on my machine:  256\n"
     ]
    }
   ],
   "source": [
    "print('number of CPU cores on my machine: ',multiprocessing.cpu_count())"
   ]
  },
  {
   "cell_type": "markdown",
   "id": "3bc4cab7",
   "metadata": {},
   "source": [
    "Now we can rewrite the loop above using Python's `ThreadPoolExecutor` module where we specify the number of parallel threads to use and what each thread will execute. The `executor.map()` function runs a function we specify once per thread. We also must provide a list of arguments for each function call. The thread pool ENDS when it runs out of arguments to pass to the function."
   ]
  },
  {
   "cell_type": "code",
   "execution_count": 6,
   "id": "6652df33",
   "metadata": {},
   "outputs": [
    {
     "name": "stdout",
     "output_type": "stream",
     "text": [
      "duration:     1.61 seconds\n",
      "images per second:   619.25\n"
     ]
    }
   ],
   "source": [
    "# NEW: now we need to specify how many parallel threads to run:\n",
    "num_threads = 2\n",
    "\n",
    "# define how many images are in our batch\n",
    "batch_size = 1000\n",
    "# define our resize shape\n",
    "resize_width = 100\n",
    "resize_height = 100\n",
    "resize_shape = (resize_width,resize_height)\n",
    "# retrieve batch_size worth of JPEG filenames\n",
    "img_files = get_image_files(num_images=batch_size)\n",
    "# create a numpy array that will hold our batch data\n",
    "#     np.zero creates an array of the given shape\n",
    "#     where all entries are set to zero\n",
    "new_image = np.zeros((batch_size,resize_width,resize_height,3))\n",
    "\n",
    "start_time = time.time()\n",
    "# NEW: this is a fancy way to create this 'executor' object that will launch and manage our parallel threads\n",
    "with concurrent.futures.ThreadPoolExecutor(max_workers=num_threads) as executor:\n",
    "   # Here is where the actual threads are launched\n",
    "   #   we pass the function each thread should call 'process_image'\n",
    "   #   then we pass our input function arguments:\n",
    "   #        img_files  -> a list of filenames (batch_size long)\n",
    "   #        repeat(resize_shape) -> repeat will provide as many copies of the resize_shape as is needed\n",
    "   #        repeat(new_image) -> repeat will provide as many copies of the new_image as is needed\n",
    "   #        repeat(len(img_files)) -> repeat will provide as many copies of number of files as is needed\n",
    "   results = executor.map(process_image, img_files,repeat(resize_shape), repeat(new_image),range(len(img_files)))\n",
    "\n",
    "end_time = time.time()\n",
    "duration = end_time - start_time\n",
    "print(f'duration: {duration:8.2f} seconds')\n",
    "image_rate = batch_size / duration\n",
    "print(f'images per second: {image_rate:8.2f}')"
   ]
  },
  {
   "cell_type": "code",
   "execution_count": 7,
   "id": "e0f82800",
   "metadata": {},
   "outputs": [],
   "source": [
    "# you can check the results of each thread using the list of \"results\" returned by the map\n",
    "# though in our case, they should simply be None since our function has no return value\n",
    "for result in results:\n",
    "   if result is not None: print(result)\n"
   ]
  },
  {
   "cell_type": "markdown",
   "id": "640cc644",
   "metadata": {},
   "source": [
    "# Exersize Instructions\n",
    "\n",
    "Play with the value of `num_threads` and note how it affects run time and throughput. How does the return value of `multiprocessing.cpu_count()`, that is, how does the number of CPU cores on your machine impact the throughput you can achieve?"
   ]
  },
  {
   "cell_type": "code",
   "execution_count": 10,
   "id": "c3665eb3",
   "metadata": {},
   "outputs": [
    {
     "name": "stdout",
     "output_type": "stream",
     "text": [
      "256\n",
      "duration:     0.47 seconds\n",
      "images per second:  2122.75\n"
     ]
    }
   ],
   "source": [
    "# NEW: now we need to specify how many parallel threads to run:\n",
    "num_threads = \n",
    "print(multiprocessing.cpu_count())\n",
    "\n",
    "# define how many images are in our batch\n",
    "batch_size = 1000\n",
    "# define our resize shape\n",
    "resize_width = 100\n",
    "resize_height = 100\n",
    "resize_shape = (resize_width,resize_height)\n",
    "# retrieve batch_size worth of JPEG filenames\n",
    "img_files = get_image_files(num_images=batch_size)\n",
    "# create a numpy array that will hold our batch data\n",
    "#     np.zero creates an array of the given shape\n",
    "#     where all entries are set to zero\n",
    "new_image = np.zeros((batch_size,resize_width,resize_height,3))\n",
    "\n",
    "start_time = time.time()\n",
    "# NEW: this is a fancy way to create this 'executor' object that will launch and manage our parallel threads\n",
    "with concurrent.futures.ThreadPoolExecutor(max_workers=num_threads) as executor:\n",
    "   # Here is where the actual threads are launched\n",
    "   #   we pass the function each thread should call 'process_image'\n",
    "   #   then we pass our input function arguments:\n",
    "   #        img_files  -> a list of filenames (batch_size long)\n",
    "   #        repeat(resize_shape) -> repeat will provide as many copies of the resize_shape as is needed\n",
    "   #        repeat(new_image) -> repeat will provide as many copies of the new_image as is needed\n",
    "   #        repeat(len(img_files)) -> repeat will provide as many copies of number of files as is needed\n",
    "   results = executor.map(process_image, img_files,repeat(resize_shape), repeat(new_image),range(len(img_files)))\n",
    "\n",
    "end_time = time.time()\n",
    "duration = end_time - start_time\n",
    "print(f'duration: {duration:8.2f} seconds')\n",
    "image_rate = batch_size / duration\n",
    "print(f'images per second: {image_rate:8.2f}')"
   ]
  },
  {
   "cell_type": "code",
   "execution_count": 20,
   "id": "42733a24",
   "metadata": {},
   "outputs": [],
   "source": [
    "images_per_sec = []\n",
    "duration_list = []\n",
    "\n",
    "for i in range(1,256):\n",
    "    start_time = time.time()\n",
    "    # NEW: this is a fancy way to create this 'executor' object that will launch and manage our parallel threads\n",
    "    with concurrent.futures.ThreadPoolExecutor(max_workers=i) as executor:\n",
    "       # Here is where the actual threads are launched\n",
    "       #   we pass the function each thread should call 'process_image'\n",
    "       #   then we pass our input function arguments:\n",
    "       #        img_files  -> a list of filenames (batch_size long)\n",
    "       #        repeat(resize_shape) -> repeat will provide as many copies of the resize_shape as is needed\n",
    "       #        repeat(new_image) -> repeat will provide as many copies of the new_image as is needed\n",
    "       #        repeat(len(img_files)) -> repeat will provide as many copies of number of files as is needed\n",
    "       results = executor.map(process_image, img_files,repeat(resize_shape), repeat(new_image),range(len(img_files)))\n",
    "\n",
    "    end_time = time.time()\n",
    "    duration = end_time - start_time\n",
    "    image_rate = batch_size / duration\n",
    "    images_per_sec.append(image_rate)\n",
    "    duration_list.append(duration)\n",
    "    "
   ]
  },
  {
   "cell_type": "code",
   "execution_count": 22,
   "id": "b2959110",
   "metadata": {},
   "outputs": [
    {
     "data": {
      "text/plain": [
       "[<matplotlib.lines.Line2D at 0x7fa855964fd0>]"
      ]
     },
     "execution_count": 22,
     "metadata": {},
     "output_type": "execute_result"
    },
    {
     "data": {
      "image/png": "[encoded data removed]",
      "text/plain": [
       "<Figure size 432x288 with 1 Axes>"
      ]
     },
     "metadata": {
      "needs_background": "light"
     },
     "output_type": "display_data"
    }
   ],
   "source": [
    "%matplotlib inline\n",
    "\n",
    "from matplotlib import pyplot as plt\n",
    "\n",
    "x = np.arange(1,256)\n",
    "plt.plot(x,images_per_sec)\n"
   ]
  },
  {
   "cell_type": "code",
   "execution_count": 23,
   "id": "bdc2042b",
   "metadata": {},
   "outputs": [
    {
     "data": {
      "text/plain": [
       "[<matplotlib.lines.Line2D at 0x7fa8558c51c0>]"
      ]
     },
     "execution_count": 23,
     "metadata": {},
     "output_type": "execute_result"
    },
    {
     "data": {
      "image/png": "[encoded data removed]",
      "text/plain": [
       "<Figure size 432x288 with 1 Axes>"
      ]
     },
     "metadata": {
      "needs_background": "light"
     },
     "output_type": "display_data"
    }
   ],
   "source": [
    "plt.plot(x,duration_list)"
   ]
  }
 ],
 "metadata": {
  "kernelspec": {
   "display_name": "conda/2022-07-01",
   "language": "python",
   "name": "conda-2022-07-01"
  },
  "language_info": {
   "codemirror_mode": {
    "name": "ipython",
    "version": 3
   },
   "file_extension": ".py",
   "mimetype": "text/x-python",
   "name": "python",
   "nbconvert_exporter": "python",
   "pygments_lexer": "ipython3",
   "version": "3.8.13"
  },
  "vscode": {
   "interpreter": {
    "hash": "2ffbed8d28ffdab8a81ac99dda4a6eabc52051a653fdcb4a791fdb3c04bf06bf"
   }
  }
 },
 "nbformat": 4,
 "nbformat_minor": 5
}
