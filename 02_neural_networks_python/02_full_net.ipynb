{
 "cells": [
  {
   "cell_type": "code",
   "execution_count": 1,
   "id": "662a93d1",
   "metadata": {},
   "outputs": [],
   "source": [
    "%load_ext autoreload\n",
    "%autoreload 2"
   ]
  },
  {
   "cell_type": "code",
   "execution_count": 2,
   "id": "e19878bb",
   "metadata": {},
   "outputs": [],
   "source": [
    "%matplotlib inline\n",
    "\n",
    "import tensorflow as tf\n",
    "\n",
    "import numpy\n",
    "import matplotlib.pyplot as plt"
   ]
  },
  {
   "cell_type": "code",
   "execution_count": 3,
   "id": "da412dba",
   "metadata": {},
   "outputs": [
    {
     "name": "stdout",
     "output_type": "stream",
     "text": [
      "(60000, 28, 28)\n",
      "(60000, 784)\n",
      "\n",
      "MNIST data loaded: train: 60000 test: 10000\n",
      "X_train: (60000, 784)\n",
      "y_train: (60000,)\n"
     ]
    }
   ],
   "source": [
    "# repeating the data prep from the previous notebook\n",
    "(x_train, y_train), (x_test, y_test) = tf.keras.datasets.mnist.load_data()\n",
    "x_train = x_train.astype(numpy.float32)\n",
    "x_test  = x_test.astype(numpy.float32)\n",
    "\n",
    "x_train /= 255.\n",
    "x_test  /= 255.\n",
    "\n",
    "print(x_train.shape)\n",
    "x_train = x_train.reshape(x_train.shape[0], numpy.prod(x_train[0,:,:].shape))\n",
    "x_test = x_test.reshape(x_test.shape[0], numpy.prod(x_test[0,:,:].shape))\n",
    "\n",
    "print(x_train.shape)\n",
    "y_train = y_train.astype(numpy.int32)\n",
    "y_test  = y_test.astype(numpy.int32)\n",
    "\n",
    "print()\n",
    "print('MNIST data loaded: train:',len(x_train),'test:',len(x_test))\n",
    "print('X_train:', x_train.shape)\n",
    "print('y_train:', y_train.shape)\n",
    "\n",
    "# one-hot encoding:\n",
    "nb_classes = 10\n",
    "y_train_onehot = tf.keras.utils.to_categorical(y_train, nb_classes)\n",
    "y_test_onehot = tf.keras.utils.to_categorical(y_test, nb_classes)"
   ]
  },
  {
   "cell_type": "code",
   "execution_count": 4,
   "id": "302994b1",
   "metadata": {},
   "outputs": [],
   "source": [
    "# Here we import an implementation of a two-layer neural network \n",
    "# this code is based on pieces of the first assignment from Stanford's CSE231n course, \n",
    "# hosted at https://github.com/cs231n/cs231n.github.io with the MIT license\n",
    "from fc_net import TwoLayerNet"
   ]
  },
  {
   "cell_type": "code",
   "execution_count": 5,
   "id": "4e00e3de",
   "metadata": {},
   "outputs": [],
   "source": [
    "num_features = x_train.shape[1] # this is the number of pixels\n",
    "# The weights are initialized from a normal distribution with standard deviation weight_scale\n",
    "model = TwoLayerNet(input_dim=num_features, hidden_dim=300, num_classes=nb_classes, weight_scale=.01)"
   ]
  },
  {
   "cell_type": "code",
   "execution_count": 6,
   "id": "32f7f1aa",
   "metadata": {},
   "outputs": [],
   "source": [
    "# here you can take a look if you want at the initial loss from an untrained network\n",
    "loss, gradients = model.loss(x_train, y_train_onehot)"
   ]
  },
  {
   "cell_type": "code",
   "execution_count": 7,
   "id": "c43e3aa5",
   "metadata": {},
   "outputs": [],
   "source": [
    "# a simple implementation of stochastic gradient descent\n",
    "def sgd(model, gradients, learning_rate):\n",
    "    for p, w in model.params.items():\n",
    "        dw = gradients[p]\n",
    "        new_weights = w - learning_rate * dw\n",
    "        model.params[p] = new_weights\n",
    "    return model"
   ]
  },
  {
   "cell_type": "code",
   "execution_count": 8,
   "id": "c8316228",
   "metadata": {},
   "outputs": [],
   "source": [
    "# one training step\n",
    "def learn(model, x_train, y_train_onehot, learning_rate):\n",
    "    loss, gradients = model.loss(x_train, y_train_onehot)\n",
    "    model = sgd(model, gradients, learning_rate)\n",
    "    return loss, model"
   ]
  },
  {
   "cell_type": "code",
   "execution_count": 9,
   "id": "81886e8c",
   "metadata": {},
   "outputs": [],
   "source": [
    "def accuracy(model, x, true_values):\n",
    "    scores = model.loss(x)\n",
    "    predictions = numpy.argmax(scores, axis=1)\n",
    "    N = predictions.shape[0]\n",
    "    acc = (true_values == predictions).sum() / N\n",
    "    return acc"
   ]
  },
  {
   "cell_type": "code",
   "execution_count": 10,
   "id": "49754891",
   "metadata": {},
   "outputs": [
    {
     "name": "stdout",
     "output_type": "stream",
     "text": [
      "epoch 0, loss 0.36315, accuracy 0.90\n",
      "epoch 1, loss 0.13679, accuracy 0.93\n",
      "epoch 2, loss 0.16643, accuracy 0.94\n",
      "epoch 3, loss 0.17849, accuracy 0.95\n",
      "epoch 4, loss 0.18456, accuracy 0.96\n",
      "epoch 5, loss 0.16241, accuracy 0.96\n",
      "epoch 6, loss 0.10227, accuracy 0.97\n",
      "epoch 7, loss 0.06647, accuracy 0.97\n",
      "epoch 8, loss 0.13216, accuracy 0.97\n",
      "epoch 9, loss 0.08936, accuracy 0.97\n",
      "epoch 10, loss 0.16342, accuracy 0.98\n",
      "epoch 11, loss 0.08022, accuracy 0.98\n",
      "epoch 12, loss 0.10505, accuracy 0.98\n",
      "epoch 13, loss 0.10158, accuracy 0.98\n",
      "epoch 14, loss 0.02327, accuracy 0.98\n",
      "epoch 15, loss 0.02879, accuracy 0.98\n",
      "epoch 16, loss 0.05433, accuracy 0.98\n",
      "epoch 17, loss 0.07821, accuracy 0.98\n",
      "epoch 18, loss 0.04002, accuracy 0.98\n",
      "epoch 19, loss 0.06738, accuracy 0.98\n",
      "epoch 20, loss 0.04900, accuracy 0.99\n",
      "epoch 21, loss 0.01947, accuracy 0.99\n",
      "epoch 22, loss 0.04663, accuracy 0.99\n",
      "epoch 23, loss 0.16184, accuracy 0.99\n",
      "epoch 24, loss 0.15117, accuracy 0.99\n",
      "epoch 25, loss 0.03707, accuracy 0.99\n",
      "epoch 26, loss 0.05361, accuracy 0.99\n",
      "epoch 27, loss 0.07146, accuracy 0.99\n",
      "epoch 28, loss 0.06341, accuracy 0.99\n",
      "epoch 29, loss 0.07592, accuracy 0.99\n"
     ]
    },
    {
     "data": {
      "text/plain": [
       "[<matplotlib.lines.Line2D at 0x20acb31a890>]"
      ]
     },
     "execution_count": 10,
     "metadata": {},
     "output_type": "execute_result"
    },
    {
     "data": {
      "image/png": "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\n",
      "text/plain": [
       "<Figure size 432x288 with 1 Axes>"
      ]
     },
     "metadata": {
      "needs_background": "light"
     },
     "output_type": "display_data"
    }
   ],
   "source": [
    "# Here's an example training loop using this two-layer model. Can you do better? \n",
    "\n",
    "gamma = 0.95\n",
    "learning_rate = 0.1  \n",
    "num_examples = x_train.shape[0]\n",
    "batch_size = 100\n",
    "num_batches = int(num_examples / batch_size)\n",
    "num_epochs = 30\n",
    "losses = numpy.zeros(num_batches*num_epochs,)\n",
    "indices = numpy.arange(num_examples)\n",
    "\n",
    "i = 0\n",
    "for epoch in range(0, num_epochs):\n",
    "    # in each epoch, we loop over all of the training examples\n",
    "    for step in range(0, num_batches):\n",
    "        # grabbing the next batch\n",
    "        offset = step * batch_size\n",
    "        batch_range = range(offset, offset+batch_size)\n",
    "        x_train_batch = x_train[batch_range, :]\n",
    "        y_train_batch = y_train_onehot[batch_range,:]\n",
    "        \n",
    "        # feed the next batch in to do one sgd step\n",
    "        loss, model = learn(model, x_train_batch, y_train_batch, learning_rate)\n",
    "        losses[i] = loss\n",
    "        i += 1\n",
    "        \n",
    "    learning_rate = gamma*learning_rate\n",
    "\n",
    "    acc = accuracy(model, x_train, y_train)\n",
    "    print(\"epoch %d, loss %.5f, accuracy %.2f\" % (epoch, loss, acc))\n",
    "    \n",
    "    # reshuffle the data so that we get a new set of batches\n",
    "    numpy.random.shuffle(indices)\n",
    "    x_train = x_train[indices,:]\n",
    "    y_train = y_train[indices] # keep this shuffled the same way for use in accuracy calculation\n",
    "    y_train_onehot = y_train_onehot[indices,:]\n",
    "plt.plot(losses)"
   ]
  },
  {
   "cell_type": "code",
   "execution_count": 11,
   "id": "a4f274c6",
   "metadata": {},
   "outputs": [
    {
     "data": {
      "text/plain": [
       "0.98815"
      ]
     },
     "execution_count": 11,
     "metadata": {},
     "output_type": "execute_result"
    }
   ],
   "source": [
    "accuracy(model, x_train, y_train)"
   ]
  },
  {
   "cell_type": "markdown",
   "id": "a2dd5728",
   "metadata": {},
   "source": [
    "# Homework: improve the accuracy of this model. "
   ]
  },
  {
   "cell_type": "markdown",
   "id": "faaf0515",
   "metadata": {},
   "source": [
    "Update this notebook so that the accuracy is improved. How high can you get it? You could change things directly in the notebook, such as increasing the number of epochs, changing the learning weight, changing the width of the hidden layer, etc. If you're more ambitious, you could also try changing the model definition itself by checking out the associated Python files. For example, you could add more layers to the network. The current notebook has a training accuracy of about 43%, but will vary with randomness."
   ]
  },
  {
   "cell_type": "code",
<<<<<<< HEAD
   "execution_count": 12,
   "id": "d6f87bb0",
=======
   "execution_count": null,
   "id": "6e484c13",
>>>>>>> 885b40f4b3c536fcb52c1821868584c052bd0f7e
   "metadata": {},
   "outputs": [
    {
     "data": {
      "text/plain": [
       "0.9775"
      ]
     },
     "execution_count": 12,
     "metadata": {},
     "output_type": "execute_result"
    }
   ],
   "source": [
    "accuracy(model, x_test,y_test)"
   ]
  }
 ],
 "metadata": {
  "kernelspec": {
   "display_name": "Python 3 (ipykernel)",
   "language": "python",
   "name": "python3"
  },
  "language_info": {
   "codemirror_mode": {
    "name": "ipython",
    "version": 3
   },
   "file_extension": ".py",
   "mimetype": "text/x-python",
   "name": "python",
   "nbconvert_exporter": "python",
   "pygments_lexer": "ipython3",
   "version": "3.10.5"
  }
 },
 "nbformat": 4,
 "nbformat_minor": 5
}
